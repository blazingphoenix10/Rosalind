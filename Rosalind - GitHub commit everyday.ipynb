{
 "cells": [
  {
   "cell_type": "code",
   "execution_count": 7,
   "metadata": {},
   "outputs": [
    {
     "name": "stdout",
     "output_type": "stream",
     "text": [
      "ATAT\n",
      "ATAT\n",
      "ATAT\n"
     ]
    },
    {
     "data": {
      "text/plain": [
       "[2, 4, 10]"
      ]
     },
     "execution_count": 7,
     "metadata": {},
     "output_type": "execute_result"
    }
   ],
   "source": [
    "s = \"GATATATGCATATACTT\"\n",
    "t = \"ATAT\"\n",
    "\n",
    "# Find positions of occurence of t in s\n",
    "\n",
    "positions = []\n",
    "\n",
    "for i in range(len(s)):\n",
    "    text = s[i:i+4]\n",
    "    if text == t:\n",
    "        print(text)\n",
    "        positions.append(i+1)\n",
    "\n",
    "positions"
   ]
  },
  {
   "cell_type": "code",
   "execution_count": 15,
   "metadata": {},
   "outputs": [
    {
     "name": "stdout",
     "output_type": "stream",
     "text": [
      "74 97 149 201 208 259 266 299 306 321 370 404 411 418 425 476 519 526 545 570 608 665 672 690 697 720 767 826 833 857 "
     ]
    }
   ],
   "source": [
    "s = \"GCCAATGTATCAATGTACGGTCAATGTAGCCAGCAATGTATACCAGCAATGTAACTGCCTGCAATGTAATGTCCAATGTACAGCAATGTAGTCGTGCAATGTACACATGCACGCCTCAATGTATCCAAGATACAATGTAACAATGTACCAATGTACAATGTATCAATGTAGCAATGTATTACAATGTAAGCGCAATGTATCAATGTACAATGTACAATGTATCATGTCTACAATGTATCAATGTATCAATGTAGCTCTCAATGTACAATGTACAATGTAGGCAATGTAATGTATGAGACAATGTACAATGTACAATGTATCAATGTACAATGTAAGAGGAAGCAATGTACCAATGTAAAGACAATGTACCAATGTACAATGTAGCAATGTAGGGACAATGTATCAATGTACAATGTACAATGTACAATGTACATCAATGTATAGTCACAATGTATCAATGTAGCTTACAATGTACCAATGTACAATGTAAATTTACAATGTAACAATGTATATCGCCACAATGTACAATGTACAATGTACCGGACAATGTACAATGTACGCCAATGTATCAATGTACAATGTACCGTGAAGGCATCAATGTAGTGGTCAATGTACAATGTAGGCAATGTAATGCAATGTAGGTTTCAATGTATCAATGTAAGTGCAATGTACAATGTACAATGTATGGCCAATGTACAATGTACAATGTACCAATGTATCAATGTACAATGTACCACAATGTATTCAATGTATAGCATCAATGTAGCAATGTACAATGTAGGACAATGTAGGTTATCAATGTAATGCAATGTAACAATGTAGGCACAATGTACAATGTACAATGTAACAATGTAATCAATGTACAATGTACGGCTGCAATGTAACCCAATGTAATCCGTTCAATGTATG\"\n",
    "t = \"CAATGTACA\"\n",
    "\n",
    "positions = []\n",
    "\n",
    "for i in range(len(s)):\n",
    "    text = s[i:i+9]\n",
    "    if text == t:\n",
    "        positions.append(i+1)\n",
    "\n",
    "for i in positions:\n",
    "    print(i, end = \" \")"
   ]
  },
  {
   "cell_type": "code",
   "execution_count": 68,
   "metadata": {},
   "outputs": [
    {
     "name": "stdout",
     "output_type": "stream",
     "text": [
      "GATTACA TAGACCA\n"
     ]
    },
    {
     "ename": "IndexError",
     "evalue": "list index out of range",
     "output_type": "error",
     "traceback": [
      "\u001b[1;31m---------------------------------------------------------------------------\u001b[0m",
      "\u001b[1;31mIndexError\u001b[0m                                Traceback (most recent call last)",
      "\u001b[1;32m<ipython-input-68-82192d08132e>\u001b[0m in \u001b[0;36m<module>\u001b[1;34m\u001b[0m\n\u001b[0;32m     70\u001b[0m         \u001b[1;32mif\u001b[0m \u001b[0mi\u001b[0m \u001b[1;33m<\u001b[0m \u001b[0mj\u001b[0m\u001b[1;33m:\u001b[0m\u001b[1;33m\u001b[0m\u001b[1;33m\u001b[0m\u001b[0m\n\u001b[0;32m     71\u001b[0m             \u001b[0mprint\u001b[0m\u001b[1;33m(\u001b[0m\u001b[0ms\u001b[0m\u001b[1;33m[\u001b[0m\u001b[0mi\u001b[0m\u001b[1;33m]\u001b[0m\u001b[1;33m,\u001b[0m\u001b[0ms\u001b[0m\u001b[1;33m[\u001b[0m\u001b[0mj\u001b[0m\u001b[1;33m]\u001b[0m\u001b[1;33m)\u001b[0m\u001b[1;33m\u001b[0m\u001b[1;33m\u001b[0m\u001b[0m\n\u001b[1;32m---> 72\u001b[1;33m             \u001b[0mfasta_lcs\u001b[0m\u001b[1;33m.\u001b[0m\u001b[0mappend\u001b[0m\u001b[1;33m(\u001b[0m\u001b[0mlcs_dp\u001b[0m\u001b[1;33m(\u001b[0m\u001b[0ms\u001b[0m\u001b[1;33m[\u001b[0m\u001b[0mi\u001b[0m\u001b[1;33m]\u001b[0m\u001b[1;33m,\u001b[0m\u001b[0ms\u001b[0m\u001b[1;33m[\u001b[0m\u001b[0mj\u001b[0m\u001b[1;33m]\u001b[0m\u001b[1;33m)\u001b[0m\u001b[1;33m)\u001b[0m\u001b[1;33m\u001b[0m\u001b[1;33m\u001b[0m\u001b[0m\n\u001b[0m\u001b[0;32m     73\u001b[0m \u001b[1;33m\u001b[0m\u001b[0m\n\u001b[0;32m     74\u001b[0m \u001b[1;31m# for i in fasta_lcs:\u001b[0m\u001b[1;33m\u001b[0m\u001b[1;33m\u001b[0m\u001b[1;33m\u001b[0m\u001b[0m\n",
      "\u001b[1;32m<ipython-input-68-82192d08132e>\u001b[0m in \u001b[0;36mlcs_dp\u001b[1;34m(X, Y)\u001b[0m\n\u001b[0;32m     58\u001b[0m                     \u001b[0mmatrix\u001b[0m\u001b[1;33m[\u001b[0m\u001b[0mi\u001b[0m\u001b[1;33m]\u001b[0m\u001b[1;33m[\u001b[0m\u001b[0mj\u001b[0m\u001b[1;33m]\u001b[0m \u001b[1;33m=\u001b[0m \u001b[0mmatrix\u001b[0m\u001b[1;33m[\u001b[0m\u001b[0mi\u001b[0m\u001b[1;33m-\u001b[0m\u001b[1;36m1\u001b[0m\u001b[1;33m]\u001b[0m\u001b[1;33m[\u001b[0m\u001b[0mj\u001b[0m\u001b[1;33m-\u001b[0m\u001b[1;36m1\u001b[0m\u001b[1;33m]\u001b[0m \u001b[1;33m+\u001b[0m \u001b[0mX\u001b[0m\u001b[1;33m[\u001b[0m\u001b[0mi\u001b[0m\u001b[1;33m]\u001b[0m\u001b[1;33m\u001b[0m\u001b[1;33m\u001b[0m\u001b[0m\n\u001b[0;32m     59\u001b[0m             \u001b[1;32melse\u001b[0m\u001b[1;33m:\u001b[0m\u001b[1;33m\u001b[0m\u001b[1;33m\u001b[0m\u001b[0m\n\u001b[1;32m---> 60\u001b[1;33m                 \u001b[0mmatrix\u001b[0m\u001b[1;33m[\u001b[0m\u001b[0mi\u001b[0m\u001b[1;33m]\u001b[0m\u001b[1;33m[\u001b[0m\u001b[0mj\u001b[0m\u001b[1;33m]\u001b[0m \u001b[1;33m=\u001b[0m \u001b[0mmax\u001b[0m\u001b[1;33m(\u001b[0m\u001b[0mmatrix\u001b[0m\u001b[1;33m[\u001b[0m\u001b[0mi\u001b[0m\u001b[1;33m-\u001b[0m\u001b[1;36m1\u001b[0m\u001b[1;33m]\u001b[0m\u001b[1;33m[\u001b[0m\u001b[0mj\u001b[0m\u001b[1;33m]\u001b[0m\u001b[1;33m,\u001b[0m \u001b[0mmatrix\u001b[0m\u001b[1;33m[\u001b[0m\u001b[0mi\u001b[0m\u001b[1;33m]\u001b[0m\u001b[1;33m[\u001b[0m\u001b[0mj\u001b[0m\u001b[1;33m-\u001b[0m\u001b[1;36m1\u001b[0m\u001b[1;33m]\u001b[0m\u001b[1;33m,\u001b[0m \u001b[0mkey\u001b[0m \u001b[1;33m=\u001b[0m \u001b[0mlen\u001b[0m\u001b[1;33m)\u001b[0m\u001b[1;33m\u001b[0m\u001b[1;33m\u001b[0m\u001b[0m\n\u001b[0m\u001b[0;32m     61\u001b[0m \u001b[1;33m\u001b[0m\u001b[0m\n\u001b[0;32m     62\u001b[0m     \u001b[0mlcs\u001b[0m \u001b[1;33m=\u001b[0m \u001b[0mmatrix\u001b[0m\u001b[1;33m[\u001b[0m\u001b[1;33m-\u001b[0m\u001b[1;36m1\u001b[0m\u001b[1;33m]\u001b[0m\u001b[1;33m[\u001b[0m\u001b[1;33m-\u001b[0m\u001b[1;36m1\u001b[0m\u001b[1;33m]\u001b[0m\u001b[1;33m\u001b[0m\u001b[1;33m\u001b[0m\u001b[0m\n",
      "\u001b[1;31mIndexError\u001b[0m: list index out of range"
     ]
    }
   ],
   "source": [
    "with open(\"rosalind_subs.txt\") as fh:\n",
    "    l = \"\"\n",
    "    s = []\n",
    "    for line in fh:\n",
    "        line = line.strip(\"\\n\")\n",
    "        if line[0] == \">\":\n",
    "            s.append(l)\n",
    "            l = \"\"\n",
    "            continue\n",
    "        else:\n",
    "            l += line\n",
    "\n",
    "s.append(l)\n",
    "s = s[1:]\n",
    "\n",
    "# Find LCS among the strings s\n",
    "\n",
    "min_len = 10000000\n",
    "for i in range(len(s)):\n",
    "    val = len(s[i])\n",
    "    index = 0\n",
    "    if val < min_len:\n",
    "        min_len = val\n",
    "        index = i\n",
    "\n",
    "min_str = s[index]\n",
    "\n",
    "# Implementation of the LCS (Longest Common Subsequence) algorithm\n",
    "# NOTE: The following implementation just finds the length of the LCS, it doesn't find the LCS\n",
    "m, n = len(x), len(y)\n",
    "def lcs(x,y,m,n):\n",
    "    if m ==0 or n ==0:\n",
    "        return 0\n",
    "    elif x[m-1] == y[n-1]: # m-1, n-1 because we are first taking the last letter of the string\n",
    "        # Having x[m], y[n] will return as index out of range.\n",
    "        return 1+lcs(x,y,m-1,n-1)\n",
    "    else:\n",
    "        # Moving the string once at a time - to the left and to the right\n",
    "        return max(lcs(x,y,m-1,n), lcs(x,y,m,n-1))\n",
    "    \n",
    "# Memoization can be used to store the values returned for various LCS so that memory complexity reduces\n",
    "# Hence the overall time complexity of the algorithm reduces from 2^^n to m X n\n",
    "# Note that this is a top-down approach, where we begin with the original complete strings\n",
    "\n",
    "# Using Dynamic Programming a bottom up approach to LCS can be devised where the LCS can be identified,\n",
    "# not just the length of the LCS\n",
    "\n",
    "def lcs_dp(X,Y):\n",
    "    matrix = [[\"\" for i in range(len(y))] for j in range(len(x))]\n",
    "    lcs = \"\"\n",
    "#     X,Y = str(X), str(Y) # Forcing it to be string\n",
    "    for i in range(len(X)):\n",
    "        for j in range(len(Y)):\n",
    "            if X[i] == Y[j]:\n",
    "                if i==0 or j ==0:\n",
    "                    matrix[i][j] =  X[i]\n",
    "                else:\n",
    "                    matrix[i][j] = matrix[i-1][j-1] + X[i]\n",
    "            else:\n",
    "                matrix[i][j] = max(matrix[i-1][j], matrix[i][j-1], key = len)\n",
    "    \n",
    "    lcs = matrix[-1][-1]\n",
    "    return lcs\n",
    "\n",
    "fasta_lcs = []\n",
    "\n",
    "for i in range(len(s)):\n",
    "    for j in range(len(s)):\n",
    "        if i < j:\n",
    "            print(s[i],s[j])\n",
    "            fasta_lcs.append(lcs_dp(s[i],s[j]))\n",
    "\n",
    "print(min(fasta_lcs))"
   ]
  },
  {
   "cell_type": "code",
   "execution_count": 75,
   "metadata": {},
   "outputs": [
    {
     "name": "stdout",
     "output_type": "stream",
     "text": [
      "\n"
     ]
    }
   ],
   "source": [
    "x = \"GATACA\"\n",
    "y = \"ATACA\"\n",
    "z  = \"A\"\n",
    "\n",
    "print(lcs_dp(y,z))"
   ]
  },
  {
   "cell_type": "code",
   "execution_count": null,
   "metadata": {},
   "outputs": [],
   "source": []
  }
 ],
 "metadata": {
  "kernelspec": {
   "display_name": "Python 3",
   "language": "python",
   "name": "python3"
  },
  "language_info": {
   "codemirror_mode": {
    "name": "ipython",
    "version": 3
   },
   "file_extension": ".py",
   "mimetype": "text/x-python",
   "name": "python",
   "nbconvert_exporter": "python",
   "pygments_lexer": "ipython3",
   "version": "3.7.6"
  }
 },
 "nbformat": 4,
 "nbformat_minor": 4
}
