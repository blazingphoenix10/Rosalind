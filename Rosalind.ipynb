{
 "cells": [
  {
   "cell_type": "code",
   "execution_count": 1,
   "metadata": {},
   "outputs": [],
   "source": [
    "# Mendel's first law\n",
    "# Law of segregation - Every factor has two alleles"
   ]
  },
  {
   "cell_type": "code",
   "execution_count": 7,
   "metadata": {},
   "outputs": [],
   "source": [
    "# Problem\n",
    "# INPUT: k,m,n - k: Number of homozygous dominant organisms, m - heterozygous organisms, n - homozygous recessive organisms\n",
    "# OUPUT: Probability that any two random organisms will produce an offspring that shows the dominant phenotype\n",
    "\n",
    "def find_probability_dominant_phenotype(k,m,n):\n",
    "    t = k + m + n\n",
    "    return((4/4)*(k/t)*(k-1)/(t-1) + (4/4)*(k/t)*(m)/(t-1) + (4/4)*(k/t)*(n)/(t-1) + (3/4)*(m/t)*(m-1)/(t-1) + (2/4)*(m/t)*(n)/(t-1)\n",
    "          + (4/4)*(m/t)*(k)/(t-1) + (4/4)*(n/t)*(k)/(t-1) + (2/4)*(n/t)*(m)/(t-1))"
   ]
  },
  {
   "cell_type": "code",
   "execution_count": 8,
   "metadata": {},
   "outputs": [
    {
     "data": {
      "text/plain": [
       "0.7833333333333333"
      ]
     },
     "execution_count": 8,
     "metadata": {},
     "output_type": "execute_result"
    }
   ],
   "source": [
    "find_probability_dominant_phenotype(2,2,2)"
   ]
  },
  {
   "cell_type": "code",
   "execution_count": 9,
   "metadata": {},
   "outputs": [
    {
     "data": {
      "text/plain": [
       "0.7886946386946387"
      ]
     },
     "execution_count": 9,
     "metadata": {},
     "output_type": "execute_result"
    }
   ],
   "source": [
    "find_probability_dominant_phenotype(22,27,17)"
   ]
  },
  {
   "cell_type": "code",
   "execution_count": null,
   "metadata": {},
   "outputs": [],
   "source": [
    "# Consensus and profile\n",
    "# Find the profile matrix and the consensus string"
   ]
  },
  {
   "cell_type": "code",
   "execution_count": 65,
   "metadata": {},
   "outputs": [
    {
     "name": "stdout",
     "output_type": "stream",
     "text": [
      "A: 1 1 3 3 5 4 2 1 0 4 5 0 3 0 4 3 4 2 3 4 4 4 3 2 2 2 2 3 1 2 5 2 1 0 2 3 2 3 1 5 2 4 0 3 4 2 2 2 2 2 4 2 1 0 3 5 1 3 2 1 2 1 3 4 1 4 4 1 1 3 2 2 2 3 3 4 3 3 1 2 2 4 3 2 2 2 5 2 1 3 3 1 0 3 3 4 4 2 3 2 2 2 3 2 1 2 2 5 3 2 1 0 2 1 0 2 3 2 2 3 2 5 2 2 4 0 0 2 3 2 5 4 2 3 2 2 2 2 2 0 2 2 3 1 1 1 3 4 3 4 0 5 4 5 2 0 4 2 1 5 1 2 2 2 2 3 1 4 1 3 2 3 3 4 1 4 1 6 3 2 5 3 1 3 2 0 3 0 4 3 3 5 4 3 2 4 3 2 4 3 3 3 3 3 1 3 3 3 3 4 5 4 3 0 2 5 1 1 1 2 3 4 3 0 3 2 5 2 2 3 3 4 2 2 2 1 4 0 3 3 4 0 2 5 0 4 3 1 2 2 0 2 2 2 1 2 3 1 1 2 0 0 4 0 1 3 4 0 1 3 2 1 5 1 2 1 5 4 4 4 3 2 3 3 4 0 3 2 2 1 3 4 4 2 3 2 4 2 3 1 3 5 3 3 5 2 3 3 4 2 2 2 2 1 3 2 4 2 2 0 2 0 4 1 2 1 4 3 3 3 4 4 5 3 2 3 3 2 3 2 3 4 2 1 2 2 2 4 3 4 1 3 2 2 1 3 5 2 3 1 3 3 3 5 2 1 2 3 1 3 4 3 5 1 4 3 3 2 4 5 2 5 2 2 4 2 1 5 4 1 4 0 3 2 2 2 2 2 3 4 1 2 3 1 2 2 2 3 2 1 1 5 3 2 3 4 1 1 1 2 1 5 1 1 4 0 2 1 1 4 2 3 2 3 1 2 2 1 1 3 5 4 4 6 3 1 1 2 2 4 2 0 1 3 4 0 2 2 3 5 2 1 3 0 5 2 1 5 2 3 3 0 2 1 3 3 4 2 4 2 1 2 4 4 4 2 3 3 2 2 4 3 1 2 3 2 4 4 2 2 5 2 4 2 1 2 5 1 3 2 1 2 3 3 2 3 2 2 1 2 3 5 3 4 3 0 4 1 2 2 4 3 1 1 2 1 4 3 3 1 5 2 3 0 2 2 1 2 1 3 1 3 4 1 2 1 1 3 2 4 3 1 0 2 2 3 2 2 1 3 1 2 4 4 4 2 2 2 2 3 2 3 4 2 2 2 0 4 1 3 3 3 5 0 1 2 1 1 1 5 3 3 2 1 2 1 2 4 3 0 3 2 3 3 0 4 1 4 5 3 3 2 3 5 1 3 2 2 1 3 5 4 1 3 1 5 2 2 1 3 1 3 1 2 4 4 1 2 2 6 5 2 4 1 4 1 1 1 2 3 1 5 2 3 2 3 3 1 1 3 3 3 2 3 1 2 1 4 3 5 3 3 1 5 2 1 2 5 6 3 2 3 0 5 5 3 2 2 3 1 2 3 1 4 2 3 2 1 3 0 3 4 3 1 3 0 2 2 0 2 4 2 2 2 2 3 2 1 2 3 1 3 2 4 4 4 2 4 0 4 2 3 1 3 4 4 3 2 4 3 1 2 5 2 2 3 2 2 4 3 0 2 3 2 4 4 0 3 5 1 2 4 2 2 4 2 3 0 2 2 2 1 2 2 4 0 2 1 3 3 6 2 3 1 4 2 1 2 2 0 3 0 5 0 3 2 0 2 1 1 2 3 5 2 2 2 2 4 0 4 5 3 4 2 2 3 7 2 3 5 2 1 5 1 2 4 0 5 3 5 3 3 4 1 1 2 3 3 2 3 6 1 1 2 2 3 3 2 1 3 3 0 2 3 2 3 2 2 3 4 1 3 3 1 2 4 4 2 2 2 0 2 3 4 2 1 1 4 1 3 5 3 2 1 1 4 2 1 1 2 3 4 1 3 4 2 3 1 2 2 1 3 5 1 3 1 3 3 2 5 2 2 2 3 5 1 2 3 3 2 1 2 3 2\n",
      "C: 1 3 2 6 3 2 4 3 4 3 3 4 2 4 1 2 3 4 3 3 0 1 2 1 1 1 4 2 1 2 1 3 2 3 4 2 5 0 6 3 1 1 5 1 2 4 3 2 3 2 3 4 6 3 3 1 4 2 3 3 3 5 1 2 2 2 1 2 3 2 2 3 4 2 3 2 2 5 3 3 0 2 2 2 2 3 2 2 6 2 3 2 2 0 1 1 2 5 2 1 3 3 3 2 4 2 5 4 2 1 2 5 1 0 6 5 2 2 3 3 4 1 1 2 2 3 1 4 5 1 2 2 1 2 3 6 4 1 3 3 1 2 4 4 2 1 1 2 2 4 3 1 0 2 1 5 5 2 3 2 2 0 4 3 2 1 1 1 2 4 4 4 3 2 1 2 4 0 1 3 1 1 3 2 2 3 1 2 3 2 4 2 3 3 5 2 3 2 1 3 1 4 2 2 2 3 2 2 3 1 1 0 1 3 3 1 3 4 4 4 1 2 1 2 2 4 2 3 2 2 2 1 2 3 6 2 2 3 3 2 1 0 4 4 5 1 3 4 2 2 5 3 4 3 4 2 2 2 3 3 5 3 2 5 0 2 2 4 2 3 3 3 3 2 2 4 3 2 3 3 3 0 1 3 1 0 3 2 3 1 1 2 1 1 2 1 2 4 0 0 2 1 0 1 2 2 5 3 4 1 1 1 3 1 1 2 1 0 4 2 4 4 1 2 3 4 2 2 0 3 2 3 3 3 0 4 1 1 5 4 6 1 3 4 4 2 3 4 3 3 3 3 4 1 1 2 3 4 0 2 3 2 1 2 1 3 4 1 4 4 2 2 4 3 1 3 2 4 0 3 5 2 2 2 1 4 2 2 4 2 2 0 2 3 3 3 4 2 1 3 3 3 1 2 0 5 0 1 3 3 5 0 4 1 2 0 1 3 1 1 2 3 2 1 2 2 4 5 4 2 2 2 1 2 2 4 4 1 5 2 1 5 2 2 2 1 3 4 2 1 1 3 3 3 2 3 4 2 1 0 3 2 1 6 2 5 6 1 2 0 3 6 3 3 1 2 1 4 2 2 4 2 2 1 3 3 2 1 3 1 3 0 4 1 3 2 2 4 1 2 1 2 2 3 3 5 1 4 1 6 2 3 2 2 1 2 3 3 2 1 0 3 2 0 3 3 4 3 4 6 1 2 5 2 3 3 3 1 2 6 4 2 1 0 4 3 4 4 2 2 1 2 0 2 4 2 5 4 1 2 5 3 2 4 4 3 3 4 2 2 5 5 3 4 5 4 4 3 3 4 4 3 4 1 3 1 5 2 4 1 1 2 1 2 1 3 4 3 2 0 2 1 0 3 4 2 3 2 3 4 2 1 4 5 3 3 2 2 3 1 1 1 3 2 2 4 4 3 3 2 1 1 3 4 4 1 2 3 4 4 3 1 3 5 0 1 2 3 0 1 2 5 2 2 1 4 4 2 3 3 2 2 3 0 3 4 2 2 2 5 5 3 2 3 4 2 3 2 1 0 3 1 3 1 5 3 2 1 2 3 4 5 2 1 2 3 3 4 3 2 1 1 4 1 4 4 4 3 2 5 1 3 2 5 1 3 4 3 0 2 2 0 3 3 3 3 3 5 2 4 2 1 2 3 3 3 4 2 2 2 4 1 4 0 2 2 1 4 2 1 0 1 2 2 1 3 1 6 1 1 5 2 0 4 0 2 3 3 4 2 3 1 3 3 4 4 4 3 3 3 3 3 1 3 3 3 3 3 4 4 2 4 3 2 1 4 3 4 6 6 2 4 2 5 1 3 3 4 3 4 3 2 1 1 1 3 1 2 7 2 1 2 0 2 5 3 1 2 1 1 1 2 0 2 5 2 5 1 3 2 3 2 2 3 3 1 4 1 3 2 1 4 6 2 3 5 2 5 4 1 2 5 4 1 4 2 3 1 1 1 5 2 1 6 0 1 1 5 4 3 3 2 2 1 4 2 2 0 4 2 1 1 4 2 6 2 0 0 4 3 3 3 3 4 2 4 1 1 1 3 4 4 1 4 2 4 1 2 1 2 2 3 1 1 1 4 2 2 3 0 4 1 2 3\n",
      "G: 5 3 3 0 0 2 0 3 5 2 2 4 1 3 3 2 2 3 3 1 2 2 1 3 3 2 4 3 5 1 1 4 3 3 1 2 2 2 0 0 2 3 3 3 2 4 2 5 4 4 2 3 0 5 3 2 2 1 3 4 3 1 3 1 3 3 4 3 2 2 3 4 2 2 2 2 2 1 3 0 3 2 3 1 0 3 1 4 0 2 2 3 3 5 3 2 2 0 2 5 3 3 2 2 2 3 0 0 3 2 3 2 2 2 3 2 1 3 2 2 2 1 2 5 2 5 6 2 2 4 1 3 3 2 2 2 1 3 3 5 6 2 1 2 4 3 1 3 3 0 6 2 4 2 4 2 0 5 1 0 5 4 1 3 5 4 3 1 4 1 2 1 2 1 5 0 2 1 3 3 1 1 4 3 4 6 3 5 1 2 2 2 3 1 2 3 1 3 3 3 4 1 4 3 4 3 3 3 2 4 0 1 2 1 2 3 2 1 1 3 2 2 2 5 3 2 2 2 6 3 1 2 1 3 0 2 3 3 2 2 1 7 1 0 4 2 0 2 4 3 3 4 1 0 2 2 1 5 3 3 3 3 2 2 5 3 1 5 4 3 3 4 1 3 1 2 0 2 2 1 2 4 4 3 3 3 0 4 3 3 2 2 4 2 2 6 1 0 6 5 3 3 4 3 1 3 0 4 2 4 3 6 3 3 2 1 3 6 1 6 2 3 4 2 2 3 2 2 5 0 4 1 1 2 5 1 2 5 1 3 0 4 3 2 4 3 3 2 3 3 3 2 4 4 5 1 1 1 5 2 1 2 2 1 5 4 1 4 0 2 1 1 1 1 2 2 1 2 2 2 1 1 5 4 3 0 5 3 2 5 3 5 4 3 4 2 4 3 2 0 4 2 2 4 2 1 4 4 5 2 4 4 2 3 2 4 4 4 4 2 4 1 4 5 2 5 1 3 2 1 2 2 2 4 3 3 2 5 3 3 3 1 3 2 2 4 2 3 1 3 6 4 3 2 4 3 1 2 2 1 3 4 3 3 2 2 2 0 4 3 2 3 5 4 4 2 3 0 2 2 4 4 3 4 2 5 1 2 4 1 1 3 3 2 2 3 2 2 3 3 1 3 4 4 2 2 1 3 0 1 5 4 3 0 6 3 5 3 1 3 3 2 3 5 2 3 1 4 2 0 3 1 1 4 2 4 1 3 3 1 0 4 0 3 2 5 2 4 4 4 6 3 2 4 1 4 3 2 4 1 1 3 3 1 2 2 2 4 4 3 2 2 1 1 1 2 2 3 2 1 0 4 0 5 1 2 4 1 1 3 2 2 1 3 5 2 1 3 4 4 3 3 6 3 1 6 0 2 2 1 3 3 2 1 3 3 2 2 1 2 2 2 3 2 3 2 1 2 5 4 2 1 1 3 4 3 2 5 4 1 4 5 2 2 4 3 4 3 1 1 1 2 1 3 3 2 2 5 1 4 4 2 3 6 5 2 3 5 4 2 2 1 1 3 2 4 4 4 5 3 3 2 3 3 1 3 3 0 0 2 2 1 4 3 3 2 1 1 2 3 5 3 1 3 3 2 2 4 1 2 4 1 1 2 1 1 1 4 6 4 0 4 1 1 1 1 4 2 5 2 4 6 4 2 0 3 1 2 5 1 3 2 3 1 2 0 3 1 2 3 5 5 3 4 4 1 5 1 2 1 4 5 4 4 4 2 4 2 1 5 3 3 3 4 1 3 1 1 4 4 4 3 4 2 2 3 4 3 1 2 0 3 3 4 4 2 1 2 0 3 1 5 0 3 4 2 4 2 3 2 4 4 2 2 3 1 4 3 1 1 3 3 3 1 2 1 2 4 2 3 3 5 1 3 1 3 4 2 3 2 4 5 3 1 2 3 2 2 3 0 2 3 1 1 4 1 3 2 2 4 4 3 3 4 3 3 3 3 4 2 2 3 5 2 7 4 3 2 2 1 6 2 4 2 3 5 3 3 1 2 3 5 2 3 2 3 2 2 3 3 1 2 3 2 3 4 2 6 5 3 2 2 2 4 1 2 3 4 5 2 3 3 4 5 3 2 5 3 2 4 4 0 3 2\n",
      "T: 3 3 2 1 2 2 4 3 1 1 0 2 4 3 2 3 1 1 1 2 4 3 4 4 4 5 0 2 3 5 3 1 4 4 3 3 1 5 3 2 5 2 2 3 2 0 3 1 1 2 1 1 3 2 1 2 3 4 2 2 2 3 3 3 4 1 1 4 4 3 3 1 2 3 2 2 3 1 3 5 5 2 2 5 6 2 2 2 3 3 2 4 5 2 3 3 2 3 3 2 2 2 2 4 3 3 3 1 2 5 4 3 5 7 1 1 4 3 3 2 2 3 5 1 2 2 3 2 0 3 2 1 4 3 3 0 3 4 2 2 1 4 2 3 3 5 5 1 2 2 1 2 2 1 3 3 1 1 5 3 2 4 3 2 1 2 5 4 3 2 2 2 2 3 3 4 3 3 3 2 3 5 2 2 2 1 3 3 2 3 1 1 0 3 1 1 3 3 2 1 2 2 1 2 3 1 2 2 2 1 4 5 4 6 3 1 4 4 4 1 4 2 4 3 2 2 1 3 0 2 4 3 5 2 2 5 1 4 2 3 4 3 3 1 1 3 4 3 2 3 2 1 3 5 3 4 4 2 3 2 2 4 2 3 4 2 3 1 3 1 2 2 1 4 5 3 2 2 1 2 2 4 2 1 2 7 4 2 2 5 4 2 1 5 3 1 3 4 1 4 2 1 3 3 2 3 2 0 0 3 4 1 2 5 4 5 2 2 3 2 2 3 1 5 3 2 2 3 2 4 0 2 1 2 3 2 4 2 1 1 1 1 2 3 0 3 2 0 1 0 3 2 0 3 3 4 1 3 2 5 3 3 4 2 2 2 3 2 5 1 3 4 0 5 3 2 4 2 4 0 2 2 1 2 2 4 2 0 0 2 1 5 1 2 1 3 0 3 4 3 2 3 4 3 6 2 4 2 0 4 0 1 1 4 3 2 4 2 4 5 3 1 3 3 2 3 3 1 3 3 4 3 5 1 4 1 2 3 1 2 1 0 1 0 3 4 4 1 5 2 1 3 3 2 0 4 3 4 4 4 2 3 3 1 1 1 1 4 2 4 2 1 0 2 2 3 2 4 2 4 1 2 1 1 1 0 4 4 1 6 2 4 2 5 2 3 2 0 4 3 3 3 0 1 4 1 3 2 6 1 2 1 2 5 1 2 0 2 6 4 4 0 2 1 2 4 1 2 2 2 2 4 3 3 3 2 2 3 2 2 1 2 6 7 2 0 3 0 3 1 2 2 4 3 3 3 1 1 3 3 1 3 5 3 2 2 3 0 3 2 2 1 2 1 0 2 2 2 3 2 4 0 2 2 4 5 1 3 4 3 4 3 3 5 3 3 4 3 3 1 2 3 2 3 3 1 5 2 2 5 2 4 1 1 4 0 5 2 1 4 4 5 1 1 4 1 3 3 1 1 2 4 5 0 1 1 4 0 1 2 2 1 4 1 2 2 3 2 7 2 2 1 3 4 2 3 3 2 4 0 3 1 2 1 0 1 2 2 3 0 0 3 5 1 3 2 2 0 1 2 1 4 3 1 2 3 3 4 2 2 2 1 4 1 0 2 4 3 2 4 2 3 4 2 1 1 2 2 4 3 2 2 4 2 5 6 3 1 4 2 4 4 4 4 4 3 1 2 1 1 3 0 2 1 3 0 3 2 3 3 1 4 2 6 2 4 3 3 2 3 4 2 0 2 3 3 2 1 3 5 1 1 3 0 2 2 3 2 0 2 2 2 2 1 1 1 2 6 1 1 1 3 3 3 1 4 1 3 2 1 2 1 1 3 1 2 5 2 2 1 4 1 3 2 2 3 3 2 3 3 1 1 2 5 4 4 3 1 2 3 1 2 3 5 1 3 0 2 4 1 4 2 4 4 2 1 1 2 1 1 0 0 1 5 4 4 1 4 2 5 1 2 2 5 1 1 2 1 3 2 1 2 1 2 1 2 2 4 2 3 2 2 1 1 1 1 2 1 2 4 1 4 1 3 1 2 4 3 4 3 1 1 2 4 1 1 6 7 2 2 3 1 3 1 1 0 4 2 2 2 3 1 2 1 4 3 3 1 2 1 3 2 3 1 1 3 1 2 2 4 1 7 2 3\n"
     ]
    },
    {
     "name": "stdout",
     "output_type": "stream",
     "text": [
      "GCACAACCGAACTCAAACAAAATTTTCAGTAGTTCACTCATACAACCGGGACCGAACTCGCCAATAATTAGGCAAAACCTTAATTCAGCAATTGAAACAGCCATCGCAATTCTTCCTGCACATGAGGCCGAATACCCTCGGTCCGTTAAAGAAAGCCGTAGGCCGGTAGCCCAAGACAACATGAGGAGAACAAACAAGAAGCGAGAAAAAATTTCATCCCTATGACACGATATCCTATAAAGCACATCGGCGCTCTTGCCCTACGAAGGACGATTCAAAAAGGAATTGCTTAATAGACGGAAGAAGCGAGTGCTTTAGCGCCATCCAAGTAAAAGCTGCCCACCCGCAAACACGGTACGTAATAGGCGTCATATAATCAACAGGACGAAGAGGCGCCGTAGCTGTCGGGTCACTAAGGGTGAGGAGCCCATATGTCCGCAACAAAGTCTAGGCAATCTTACGACACCAGTACGGGAACATCGAAAGTTGTATCTAGAATGAGAGTCACTCGGATGAGCTTTAAGATAGCCATCGCGAAACAGTTCGCCGGGAAGCGCCGACCTCCACCGACCAACCCCCCCGAGTTCACATAATGCCCGAAAGCCGTAATATCCTATAATTTAATCCCGGAATCCATGCCGGTCAAGCTAACATACCGTGGACGGCAGGCCATACGGAGAATCACCGAAACCGAAATCATGACACCCGTCGATCTTCGGGAGTTTAGCGCGGGAAACAGACTCTAAACAAGGAGGAGCATCGGCAAGAAGCACGACCTGGGCGCATGCCCACAGACTCCCTGACGCGCCCGGATTTGACAAAATCAAGTATGATCACAAAGGATTTCTCTACCTGCACCGGCCGCACTGACAGCGAACCTGTGACGTACAAGCTCATTCCAACCACTGGCCCACTCAGGAGCGGACGAAGCTAC\n"
     ]
    }
   ],
   "source": [
    "with open(\"consensus.txt\") as fh:\n",
    "    data = fh.read()\n",
    "    data = data.split(\"\\n\")\n",
    "    seq = []\n",
    "    sequence = \"\"\n",
    "    for line in data:\n",
    "        if line.startswith(\">\"):\n",
    "            seq.append(sequence)\n",
    "            sequence = \"\"\n",
    "        else:\n",
    "            sequence += line\n",
    "    # To add the final sequence\n",
    "    seq.append(sequence)\n",
    "\n",
    "seq = seq[1:]\n",
    "nucleotides = [\"A\", \"C\", \"G\", \"T\"]\n",
    "vertical = []\n",
    "\n",
    "for i in range(len(seq[0])):\n",
    "    temp = \"\"\n",
    "    for j in range(len(seq)):\n",
    "        temp += seq[j][i]\n",
    "    vertical.append(temp)\n",
    "\n",
    "profile = []\n",
    "for i in nucleotides:\n",
    "    temp = []\n",
    "    for j in vertical:\n",
    "        temp.append(j.count(i))\n",
    "    profile.append(temp)\n",
    "    n = i + \":\"\n",
    "    print(n, *temp)\n",
    "\n",
    "consensus = \"\"\n",
    "for i in range(len(profile[0])):\n",
    "    temp = []\n",
    "    for j in range(len(nucleotides)):\n",
    "        temp.append(profile[j][i])\n",
    "    consensus += nucleotides[temp.index(max(temp))]\n",
    "print(*consensus, sep = \"\")"
   ]
  },
  {
   "cell_type": "code",
   "execution_count": 57,
   "metadata": {},
   "outputs": [
    {
     "name": "stdout",
     "output_type": "stream",
     "text": [
      "3\n"
     ]
    }
   ],
   "source": [
    "a = [1,2,3,4]\n",
    "print(a.index(max(a)))"
   ]
  },
  {
   "cell_type": "code",
   "execution_count": 32,
   "metadata": {},
   "outputs": [
    {
     "data": {
      "text/plain": [
       "['ATCCAGCT', 'GGGCAACT', 'ATGGATCT', 'AAGCAACC', 'TTGGAACT', 'ATGCCATT']"
      ]
     },
     "execution_count": 32,
     "metadata": {},
     "output_type": "execute_result"
    }
   ],
   "source": [
    "seq"
   ]
  },
  {
   "cell_type": "code",
   "execution_count": null,
   "metadata": {},
   "outputs": [],
   "source": []
  }
 ],
 "metadata": {
  "kernelspec": {
   "display_name": "Python 3",
   "language": "python",
   "name": "python3"
  },
  "language_info": {
   "codemirror_mode": {
    "name": "ipython",
    "version": 3
   },
   "file_extension": ".py",
   "mimetype": "text/x-python",
   "name": "python",
   "nbconvert_exporter": "python",
   "pygments_lexer": "ipython3",
   "version": "3.7.6"
  }
 },
 "nbformat": 4,
 "nbformat_minor": 4
}
